{
 "cells": [
  {
   "cell_type": "markdown",
   "metadata": {},
   "source": [
    "## Ejercicio 1 Kata 3"
   ]
  },
  {
   "cell_type": "code",
   "execution_count": 9,
   "metadata": {},
   "outputs": [
    {
     "name": "stdout",
     "output_type": "stream",
     "text": [
      "Cuidado se acerca un asteroide\n"
     ]
    }
   ],
   "source": [
    "VelAst= 49\n",
    "VelAstAd = 25\n",
    "if VelAst > VelAstAd:\n",
    "    print(\"Cuidado se acerca un asteroide\")\n",
    "else:\n",
    "    print(\"Todo brilla el dia de hoy\")"
   ]
  },
  {
   "cell_type": "markdown",
   "metadata": {},
   "source": [
    "## Ejercicio 2 Kata 3"
   ]
  },
  {
   "cell_type": "code",
   "execution_count": 10,
   "metadata": {},
   "outputs": [
    {
     "name": "stdout",
     "output_type": "stream",
     "text": [
      "Existe algo en el cielo que observar\n"
     ]
    }
   ],
   "source": [
    "VelAst = 22\n",
    "if VelAst > 20:\n",
    "    print (\"Existe algo en el cielo que observar\")\n",
    "elif VelAst == 20:\n",
    "    print (\"Existe algo en el cielo que observar\")\n",
    "else:\n",
    "    print (\"El dia es bello\")"
   ]
  },
  {
   "cell_type": "markdown",
   "metadata": {},
   "source": [
    "## Ejercicio 3 Kata 3"
   ]
  },
  {
   "cell_type": "markdown",
   "metadata": {},
   "source": []
  },
  {
   "cell_type": "code",
   "execution_count": 15,
   "metadata": {},
   "outputs": [
    {
     "name": "stdout",
     "output_type": "stream",
     "text": [
      "Existe algo hermoso en el cielo que observar\n"
     ]
    }
   ],
   "source": [
    "VelAst = 27\n",
    "TamAst = 6\n",
    "if VelAst > 25 and TamAst >25:\n",
    "    print (\"Un Asteroide se acerca peligosamente a la Tierra\")\n",
    "elif VelAst >= 20:\n",
    "    print (\"Existe algo hermoso en el cielo que observar\")\n",
    "elif TamAst < 25:\n",
    "    print (\"El es bello\")\n",
    "else:\n",
    "    print (\"El dia es bello\")\n",
    "\n"
   ]
  }
 ],
 "metadata": {
  "interpreter": {
   "hash": "e9c1b6de7dd11e836f9d6578176a03145d69b3706dc1a430f69caaa0fa1933fa"
  },
  "kernelspec": {
   "display_name": "Python 3.10.2 64-bit",
   "language": "python",
   "name": "python3"
  },
  "language_info": {
   "codemirror_mode": {
    "name": "ipython",
    "version": 3
   },
   "file_extension": ".py",
   "mimetype": "text/x-python",
   "name": "python",
   "nbconvert_exporter": "python",
   "pygments_lexer": "ipython3",
   "version": "3.10.2"
  },
  "orig_nbformat": 4
 },
 "nbformat": 4,
 "nbformat_minor": 2
}
